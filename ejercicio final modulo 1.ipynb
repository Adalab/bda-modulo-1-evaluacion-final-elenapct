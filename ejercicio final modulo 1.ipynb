{
 "cells": [
  {
   "cell_type": "code",
   "execution_count": 4,
   "metadata": {},
   "outputs": [],
   "source": [
    "#The 3 main structures are: stock, customers and total sales and we create it empty at the start.\n",
    "#stock will have as keys: name, price and quantity.\n",
    "#customers will have as keys: name, email and purchase history.\n",
    "#the sales will be decimal"
   ]
  },
  {
   "cell_type": "code",
   "execution_count": 5,
   "metadata": {},
   "outputs": [
    {
     "name": "stdout",
     "output_type": "stream",
     "text": [
      "[]\n",
      "{}\n"
     ]
    }
   ],
   "source": [
    "stock = []\n",
    "print(stock)\n",
    "\n",
    "customers = {}\n",
    "print(customers)\n",
    "\n",
    "sales = 0.0"
   ]
  },
  {
   "cell_type": "code",
   "execution_count": 6,
   "metadata": {},
   "outputs": [
    {
     "name": "stdout",
     "output_type": "stream",
     "text": [
      "[{'name': 'tshirt_pomona', 'price': 28, 'quantity': 12}, {'name': 'tshirt_nyx', 'price': 30, 'quantity': 25}, {'name': 'tshirt_minerva', 'price': 32, 'quantity': 10}, {'name': 'tshirt_eostre', 'price': 26, 'quantity': 7}, {'name': 'sweatshirt_minerva', 'price': 40, 'quantity': 6}, {'name': 'sweatshirt_afrodita', 'price': 59, 'quantity': 5}]\n"
     ]
    }
   ],
   "source": [
    "#Exercise 1:\n",
    "#I´m going to add the items with their name, price and quantity to the stock dictionary list\n",
    "##name: tshirt_pomona, price: 28€, quantity: 12\n",
    "##name: tshirt_nyx, price: 30€, quantity: 25\n",
    "##name: tshirt_minerva, price: 32€, quantity: 10\n",
    "##name: tshirt_eostre, price: 26€, quantity: 7\n",
    "##name: sweatshirt_minerva, price: 40€, quantity: 6\n",
    "##name: sweatshirt_afrodita, price: 59€, quantity: 5\n",
    "\n",
    "item1 = {\"name\": \"tshirt_pomona\", \"price\": 28, \"quantity\": 12}\n",
    "item2 = {\"name\": \"tshirt_nyx\", \"price\": 30, \"quantity\": 25}\n",
    "item3 = {\"name\": \"tshirt_minerva\", \"price\": 32, \"quantity\": 10}\n",
    "item4 = {\"name\": \"tshirt_eostre\", \"price\": 26, \"quantity\": 7}\n",
    "item5 = {\"name\": \"sweatshirt_minerva\", \"price\": 40, \"quantity\": 6}\n",
    "item6 = {\"name\": \"sweatshirt_afrodita\", \"price\": 59, \"quantity\": 5}\n",
    "\n",
    "stock.append(item1)\n",
    "stock.append(item2)\n",
    "stock.append(item3)\n",
    "stock.append(item4)\n",
    "stock.append(item5)\n",
    "stock.append(item6)\n",
    "print(stock)"
   ]
  },
  {
   "cell_type": "code",
   "execution_count": 7,
   "metadata": {},
   "outputs": [],
   "source": [
    "#the result of adding all the items in stock will be\n",
    "stock = [{'name': 'tshirt_pomona', 'price': 28, 'quantity': 12}, \n",
    "         {'name': 'tshirt_nyx', 'price': 30, 'quantity': 25}, \n",
    "         {'name': 'tshirt_minerva', 'price': 32, 'quantity': 10}, \n",
    "         {'name': 'tshirt_eostre', 'price': 26, 'quantity': 7}, \n",
    "         {'name': 'sweatshirt_minerva', 'price': 40, 'quantity': 6}, \n",
    "         {'name': 'sweatshirt_afrodita', 'price': 59, 'quantity': 5}]"
   ]
  },
  {
   "cell_type": "code",
   "execution_count": 8,
   "metadata": {},
   "outputs": [
    {
     "name": "stdout",
     "output_type": "stream",
     "text": [
      "{'name': 'tshirt_pomona', 'price': 28, 'quantity': 12}\n",
      "{'name': 'tshirt_nyx', 'price': 30, 'quantity': 25}\n",
      "{'name': 'tshirt_minerva', 'price': 32, 'quantity': 10}\n",
      "{'name': 'tshirt_eostre', 'price': 26, 'quantity': 7}\n",
      "{'name': 'sweatshirt_minerva', 'price': 40, 'quantity': 6}\n",
      "{'name': 'sweatshirt_afrodita', 'price': 59, 'quantity': 5}\n"
     ]
    }
   ],
   "source": [
    "#Exercise 2:\n",
    "#Now I want to see all the details of the stock\n",
    "#the result will be all the dictionarys of my list called stock\n",
    "\n",
    "for item in stock:\n",
    "    print(item)"
   ]
  },
  {
   "cell_type": "code",
   "execution_count": 9,
   "metadata": {},
   "outputs": [
    {
     "name": "stdout",
     "output_type": "stream",
     "text": [
      "name, tshirt_pomona\n",
      "price, 28\n",
      "quantity, 12\n",
      "name, tshirt_nyx\n",
      "price, 30\n",
      "quantity, 25\n",
      "name, tshirt_minerva\n",
      "price, 32\n",
      "quantity, 10\n",
      "name, tshirt_eostre\n",
      "price, 26\n",
      "quantity, 7\n",
      "name, sweatshirt_minerva\n",
      "price, 40\n",
      "quantity, 6\n",
      "name, sweatshirt_afrodita\n",
      "price, 59\n",
      "quantity, 5\n"
     ]
    }
   ],
   "source": [
    "#but I want to see the keys and values and the result will be all the pairs of the whole stock\n",
    "for item in stock:\n",
    "    for key, value in item.items():\n",
    "        print(f\"{key}, {value}\")"
   ]
  },
  {
   "cell_type": "code",
   "execution_count": 10,
   "metadata": {},
   "outputs": [
    {
     "name": "stdout",
     "output_type": "stream",
     "text": [
      "{'name': 'tshirt_minerva', 'price': 32, 'quantity': 10}\n"
     ]
    }
   ],
   "source": [
    "#Exercise 3: I want to find a producto in the stock and show the result\n",
    "\n",
    "item3 = {\"name\": \"tshirt_minerva\", \"price\": 32, \"quantity\": 10}\n",
    "if item3 in stock:\n",
    "    print(item3)\n",
    "else:\n",
    "    print(\"sorry, we don´t have this desing\")"
   ]
  },
  {
   "cell_type": "code",
   "execution_count": 11,
   "metadata": {},
   "outputs": [
    {
     "name": "stdout",
     "output_type": "stream",
     "text": [
      "sorry, we don´t have this desing\n"
     ]
    }
   ],
   "source": [
    "#I can also search for a product that I don´t have in stock and get a message back\n",
    "\n",
    "item17 = {\"name\": \"tshirt_athena\", \"price\": 32, \"quantity\": 10}\n",
    "if item17 in stock:\n",
    "    print(item17)\n",
    "else:\n",
    "    print(\"sorry, we don´t have this desing\")"
   ]
  },
  {
   "cell_type": "code",
   "execution_count": 12,
   "metadata": {},
   "outputs": [
    {
     "name": "stdout",
     "output_type": "stream",
     "text": [
      "[{'name': 'tshirt_pomona', 'price': 28, 'quantity': 12}, {'name': 'tshirt_nyx', 'price': 30, 'quantity': 25}, {'name': 'tshirt_athena', 'price': 32, 'quantity': 10}, {'name': 'tshirt_eostre', 'price': 26, 'quantity': 7}, {'name': 'sweatshirt_athena', 'price': 40, 'quantity': 6}, {'name': 'sweatshirt_afrodita', 'price': 59, 'quantity': 5}]\n"
     ]
    }
   ],
   "source": [
    "#Exercise 4: Update stock by name\n",
    "# #I have realized that \"minerva\" is a roman goddess and I want to name the product afert the greek goddesse \"athena\" \n",
    "#so I have to change the name\n",
    "for item in stock:\n",
    "    if \"tshirt_minerva\" in item[\"name\"]:\n",
    "        item[\"name\"] = item[\"name\"].replace(\"tshirt_minerva\", \"tshirt_athena\")\n",
    "print(stock)"
   ]
  },
  {
   "cell_type": "code",
   "execution_count": 13,
   "metadata": {},
   "outputs": [
    {
     "name": "stdout",
     "output_type": "stream",
     "text": [
      "[{'name': 'tshirt_pomona', 'price': 28, 'quantity': 12}, {'name': 'tshirt_nyx', 'price': 30, 'quantity': 23}, {'name': 'tshirt_athena', 'price': 32, 'quantity': 10}, {'name': 'tshirt_eostre', 'price': 26, 'quantity': 7}, {'name': 'sweatshirt_athena', 'price': 40, 'quantity': 6}, {'name': 'sweatshirt_afrodita', 'price': 59, 'quantity': 5}]\n"
     ]
    }
   ],
   "source": [
    "#update stock by quantity\n",
    "# I have gicen my sister two \"tshirt_nyx\" as a present, so i also have to update the quantity of that product\n",
    "for item in stock:\n",
    "    if item[\"name\"] ==\"tshirt_nyx\":\n",
    "        item[\"quantity\"] -= 2\n",
    "print(stock)"
   ]
  },
  {
   "cell_type": "code",
   "execution_count": 14,
   "metadata": {},
   "outputs": [
    {
     "name": "stdout",
     "output_type": "stream",
     "text": [
      "sorry, we do not have it\n"
     ]
    }
   ],
   "source": [
    "#Exersice 5: erase a product\n",
    "#I use to have a goddess hera tshirt but they are sold out. I have to check if they are in stock and remove them.\n",
    "#I am going to use the for loop to step items one by one over my list of dictionarys accessing each dictionaty \n",
    "# to identify the specific item that i´m looking for\n",
    "for item in stock:\n",
    "    if item[\"name\"] == \"tshirt_hera\":\n",
    "        stock.remove(item)\n",
    "else:\n",
    "    print(\"sorry, we do not have it\")"
   ]
  },
  {
   "cell_type": "code",
   "execution_count": 15,
   "metadata": {},
   "outputs": [],
   "source": [
    "stock = [\n",
    "    {'name': 'tshirt_pomona', 'price': 28, 'quantity': 12}, \n",
    "    {'name': 'tshirt_nyx', 'price': 30, 'quantity': 23}, \n",
    "    {'name': 'tshirt_athena', 'price': 32, 'quantity': 10}, \n",
    "    {'name': 'tshirt_eostre', 'price': 26, 'quantity': 7}, \n",
    "    {'name': 'sweatshirt_athena', 'price': 40, 'quantity': 6}, \n",
    "    {'name': 'sweatshirt_afrodita', 'price': 59, 'quantity': 5}\n",
    "    ]"
   ]
  },
  {
   "cell_type": "code",
   "execution_count": 16,
   "metadata": {},
   "outputs": [
    {
     "name": "stdout",
     "output_type": "stream",
     "text": [
      "2063.0\n"
     ]
    }
   ],
   "source": [
    "#voy a calcular el valor total de mi stock\n",
    "\n",
    "stock = [\n",
    "    {'name': 'tshirt_pomona', 'price': 28, 'quantity': 12}, \n",
    "    {'name': 'tshirt_nyx', 'price': 30, 'quantity': 23}, \n",
    "    {'name': 'tshirt_athena', 'price': 32, 'quantity': 10}, \n",
    "    {'name': 'tshirt_eostre', 'price': 26, 'quantity': 7}, \n",
    "    {'name': 'sweatshirt_athena', 'price': 40, 'quantity': 6}, \n",
    "    {'name': 'sweatshirt_afrodita', 'price': 59, 'quantity': 5}\n",
    "    ]\n",
    "\n",
    "purchasing_power = 0.0\n",
    "for item in stock:\n",
    "    purchasing_power += item[\"price\"] * item[\"quantity\"]\n",
    "print(purchasing_power)"
   ]
  },
  {
   "cell_type": "code",
   "execution_count": 17,
   "metadata": {},
   "outputs": [
    {
     "name": "stdout",
     "output_type": "stream",
     "text": [
      "[336, 690, 320, 182, 240, 295]\n",
      "2063\n"
     ]
    }
   ],
   "source": [
    "#exercise 6: To calculate the whole value os the stock\n",
    "stock = [\n",
    "    {'name': 'tshirt_pomona', 'price': 28, 'quantity': 12}, \n",
    "    {'name': 'tshirt_nyx', 'price': 30, 'quantity': 23}, \n",
    "    {'name': 'tshirt_athena', 'price': 32, 'quantity': 10}, \n",
    "    {'name': 'tshirt_eostre', 'price': 26, 'quantity': 7}, \n",
    "    {'name': 'sweatshirt_athena', 'price': 40, 'quantity': 6}, \n",
    "    {'name': 'sweatshirt_afrodita', 'price': 59, 'quantity': 5}\n",
    "    ]\n",
    "\n",
    "#I make a new list to keep each multiple os (price x quantity)\n",
    "#and with .append I can add all the results of each multiple\n",
    "item_value = []\n",
    "for item in stock:\n",
    "    value = item[\"price\"] * item[\"quantity\"]\n",
    "    item_value.append(value)\n",
    "print(item_value)\n",
    "\n",
    "#then with sum I can add up the differents values\n",
    "stock_value = sum(item_value)\n",
    "print(stock_value)\n"
   ]
  }
 ],
 "metadata": {
  "kernelspec": {
   "display_name": "base",
   "language": "python",
   "name": "python3"
  },
  "language_info": {
   "codemirror_mode": {
    "name": "ipython",
    "version": 3
   },
   "file_extension": ".py",
   "mimetype": "text/x-python",
   "name": "python",
   "nbconvert_exporter": "python",
   "pygments_lexer": "ipython3",
   "version": "3.12.7"
  }
 },
 "nbformat": 4,
 "nbformat_minor": 2
}
