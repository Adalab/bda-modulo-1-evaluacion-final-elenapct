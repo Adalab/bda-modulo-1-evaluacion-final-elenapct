{
 "cells": [
  {
   "cell_type": "code",
   "execution_count": null,
   "metadata": {},
   "outputs": [],
   "source": [
    "#The 3 main structures are: stock, customers and total sales and we create it empty at the start.\n",
    "#stock will have as keys: name, price and quantity.\n",
    "#customers will have as keys: name, email and purchase history.\n",
    "#the sales will be decimal\n",
    "\n",
    "stock = []\n",
    "print(stock)\n",
    "\n",
    "customers = {}\n",
    "print(customers)\n",
    "\n",
    "sales = 0.0"
   ]
  },
  {
   "cell_type": "code",
   "execution_count": null,
   "metadata": {},
   "outputs": [],
   "source": [
    "#Exercise 1:\n",
    "#I´m going to add the items with their name, price and quantity to the stock dictionary list\n",
    "##name: tshirt_pomona, price: 28€, quantity: 12\n",
    "##name: tshirt_nyx, price: 30€, quantity: 25\n",
    "##name: tshirt_minerva, price: 32€, quantity: 10\n",
    "##name: tshirt_eostre, price: 26€, quantity: 7\n",
    "##name: sweatshirt_minerva, price: 40€, quantity: 6\n",
    "##name: sweatshirt_afrodita, price: 59€, quantity: 5\n",
    "\n",
    "#create the dictionarys for each item\n",
    "item1 = {\"name\": \"tshirt_pomona\", \"price\": 28, \"quantity\": 12}\n",
    "item2 = {\"name\": \"tshirt_nyx\", \"price\": 30, \"quantity\": 25}\n",
    "item3 = {\"name\": \"tshirt_minerva\", \"price\": 32, \"quantity\": 10}\n",
    "item4 = {\"name\": \"tshirt_eostre\", \"price\": 26, \"quantity\": 7}\n",
    "item5 = {\"name\": \"sweatshirt_minerva\", \"price\": 40, \"quantity\": 6}\n",
    "item6 = {\"name\": \"sweatshirt_afrodita\", \"price\": 59, \"quantity\": 5}\n",
    "#add each dictionary to the list stock\n",
    "stock.append(item1)\n",
    "stock.append(item2)\n",
    "stock.append(item3)\n",
    "stock.append(item4)\n",
    "stock.append(item5)\n",
    "stock.append(item6)\n",
    "print(stock)"
   ]
  },
  {
   "cell_type": "code",
   "execution_count": null,
   "metadata": {},
   "outputs": [],
   "source": [
    "#the result of adding all the items in stock will be\n",
    "stock = [{'name': 'tshirt_pomona', 'price': 28, 'quantity': 12}, \n",
    "         {'name': 'tshirt_nyx', 'price': 30, 'quantity': 25}, \n",
    "         {'name': 'tshirt_minerva', 'price': 32, 'quantity': 10}, \n",
    "         {'name': 'tshirt_eostre', 'price': 26, 'quantity': 7}, \n",
    "         {'name': 'sweatshirt_minerva', 'price': 40, 'quantity': 6}, \n",
    "         {'name': 'sweatshirt_afrodita', 'price': 59, 'quantity': 5}]"
   ]
  },
  {
   "cell_type": "code",
   "execution_count": null,
   "metadata": {},
   "outputs": [],
   "source": [
    "#Exercise 2:\n",
    "#Now I want to see all the details of the stock using for... in...: to iterate over each element of the list\n",
    "#the loop for goes until reach the end of the list and displays it on the screen\n",
    "\n",
    "for item in stock:\n",
    "    print(item)"
   ]
  },
  {
   "cell_type": "code",
   "execution_count": null,
   "metadata": {},
   "outputs": [],
   "source": [
    "#using a \"nested loop\" you can see each key:value \n",
    "for item in stock:  #to process each dictionary in the list stock\n",
    "    for key, value in item.items(): #to  process each key:value in each dictionary\n",
    "        print(f\"{key}, {value}\") #to display it on the screen"
   ]
  },
  {
   "cell_type": "code",
   "execution_count": null,
   "metadata": {},
   "outputs": [],
   "source": [
    "#Exercise 3: I want to find a product in the stock\n",
    "\n",
    "stock = [{'name': 'tshirt_pomona', 'price': 28, 'quantity': 12}, \n",
    "         {'name': 'tshirt_nyx', 'price': 30, 'quantity': 25}, \n",
    "         {'name': 'tshirt_minerva', 'price': 32, 'quantity': 10}, \n",
    "         {'name': 'tshirt_eostre', 'price': 26, 'quantity': 7}, \n",
    "         {'name': 'sweatshirt_minerva', 'price': 40, 'quantity': 6}, \n",
    "         {'name': 'sweatshirt_afrodita', 'price': 59, 'quantity': 5}]\n",
    "\n",
    "def search_by_name(stock, product_name): #define the function with its parameters\n",
    "    for item in stock: #check each element of the diccionarys inside the list stock\n",
    "        if item[\"name\"] == product_name: #reach the keys \"name\" looking for the product I ask and compares it\n",
    "            return item\n",
    "    return None\n",
    "\n",
    "#use the function to verify it ir works\n",
    "product_name = \"tshirt_nx\"\n",
    "result = search_by_name(stock, product_name)\n",
    "if result:\n",
    "    print(result)\n",
    "else:\n",
    "    print(\"item not found\")\n"
   ]
  },
  {
   "cell_type": "code",
   "execution_count": null,
   "metadata": {},
   "outputs": [],
   "source": [
    "#Exercise 4: Update stock by name\n",
    "# #I have realized that \"minerva\" is a roman goddess and I want to name the product afert the greek goddesse \"athena\" \n",
    "#so I have to change the name\n",
    "for item in stock:\n",
    "    if \"tshirt_minerva\" in item[\"name\"]:\n",
    "        item[\"name\"] = item[\"name\"].replace(\"tshirt_minerva\", \"tshirt_athena\")\n",
    "print(stock)"
   ]
  },
  {
   "cell_type": "code",
   "execution_count": null,
   "metadata": {},
   "outputs": [],
   "source": [
    "#update stock by quantity\n",
    "# I have gicen my sister two \"tshirt_nyx\" as a present, so i also have to update the quantity of that product\n",
    "for item in stock:\n",
    "    if item[\"name\"] ==\"tshirt_nyx\":\n",
    "        item[\"quantity\"] -= 2\n",
    "print(stock)"
   ]
  },
  {
   "cell_type": "code",
   "execution_count": null,
   "metadata": {},
   "outputs": [],
   "source": [
    "#Exersice 5: erase a product\n",
    "#I use to have a goddess hera tshirt but they are sold out. I have to check if they are in stock and remove them.\n",
    "#I am going to use the for loop to step items one by one over my list of dictionarys accessing each dictionaty \n",
    "# to identify the specific item that i´m looking for\n",
    "for item in stock:\n",
    "    if item[\"name\"] == \"tshirt_hera\":\n",
    "        stock.remove(item)\n",
    "else:\n",
    "    print(\"sorry, we do not have it\")"
   ]
  },
  {
   "cell_type": "code",
   "execution_count": null,
   "metadata": {},
   "outputs": [],
   "source": [
    "stock = [\n",
    "    {'name': 'tshirt_pomona', 'price': 28, 'quantity': 12}, \n",
    "    {'name': 'tshirt_nyx', 'price': 30, 'quantity': 23}, \n",
    "    {'name': 'tshirt_athena', 'price': 32, 'quantity': 10}, \n",
    "    {'name': 'tshirt_eostre', 'price': 26, 'quantity': 7}, \n",
    "    {'name': 'sweatshirt_athena', 'price': 40, 'quantity': 6}, \n",
    "    {'name': 'sweatshirt_afrodita', 'price': 59, 'quantity': 5}\n",
    "    ]"
   ]
  },
  {
   "cell_type": "code",
   "execution_count": null,
   "metadata": {},
   "outputs": [],
   "source": [
    "#voy a calcular el valor total de mi stock\n",
    "\n",
    "stock = [\n",
    "    {'name': 'tshirt_pomona', 'price': 28, 'quantity': 12}, \n",
    "    {'name': 'tshirt_nyx', 'price': 30, 'quantity': 23}, \n",
    "    {'name': 'tshirt_athena', 'price': 32, 'quantity': 10}, \n",
    "    {'name': 'tshirt_eostre', 'price': 26, 'quantity': 7}, \n",
    "    {'name': 'sweatshirt_athena', 'price': 40, 'quantity': 6}, \n",
    "    {'name': 'sweatshirt_afrodita', 'price': 59, 'quantity': 5}\n",
    "    ]\n",
    "\n",
    "purchasing_power = 0.0\n",
    "for item in stock:\n",
    "    purchasing_power += item[\"price\"] * item[\"quantity\"]\n",
    "print(purchasing_power)"
   ]
  },
  {
   "cell_type": "code",
   "execution_count": null,
   "metadata": {},
   "outputs": [],
   "source": [
    "#exercise 6: To calculate the whole value os the stock\n",
    "stock = [\n",
    "    {'name': 'tshirt_pomona', 'price': 28, 'quantity': 12}, \n",
    "    {'name': 'tshirt_nyx', 'price': 30, 'quantity': 23}, \n",
    "    {'name': 'tshirt_athena', 'price': 32, 'quantity': 10}, \n",
    "    {'name': 'tshirt_eostre', 'price': 26, 'quantity': 7}, \n",
    "    {'name': 'sweatshirt_athena', 'price': 40, 'quantity': 6}, \n",
    "    {'name': 'sweatshirt_afrodita', 'price': 59, 'quantity': 5}\n",
    "    ]\n",
    "\n",
    "#I make a new list to keep each multiple os (price x quantity)\n",
    "#and with .append I can add all the results of each multiple\n",
    "item_value = []\n",
    "for item in stock:\n",
    "    value = item[\"price\"] * item[\"quantity\"]\n",
    "    item_value.append(value)\n",
    "print(item_value)\n",
    "\n",
    "#then with sum I can add up the differents values\n",
    "stock_value = sum(item_value)\n",
    "print(stock_value)\n"
   ]
  },
  {
   "cell_type": "code",
   "execution_count": null,
   "metadata": {},
   "outputs": [],
   "source": [
    "#Exersice 7: A client wants to purchase a product\n",
    "\n",
    "#create the new variable for the shopping basket\n",
    "shopping_basket = []\n",
    "\n",
    "#show the avaliable stock\n",
    "while True:\n",
    "    print(\"Avaliable designs:\")\n",
    "    for item in stock:\n",
    "        print(f\"design:{item['name']}, $:{item['price']}\")\n",
    "    #ask the client to choose a product or leave\n",
    "    item_choice = input(\"Please, choose a design or type exit to finish\")\n",
    "    if item_choice == \"exit\":\n",
    "        print(\"Thanks for visiting us, see you soon!\")\n",
    "        break\n",
    "   #search the choosen product in our stock \n",
    "    for item in stock:\n",
    "        if item[\"name\"] == item_choice:\n",
    "            while True:\n",
    "                try: \n",
    "                    #ask for the number of products want to buy\n",
    "                    quantity = int(input (f\"How many {item['name']} would you like? \"))\n",
    "                    if quantity <= 0:\n",
    "                        print (\"please, don´t drive me nuts and choose positive number\")\n",
    "                    elif quantity > item[\"quantity\"]:\n",
    "                        print(f\"Sorry, we only have {item[\"quantity\"]} in stock\")\n",
    "                    else:\n",
    "                        #check the shopping basket \n",
    "                        for product in shopping_basket:\n",
    "                            if product[\"name\"] == item[\"name\"]:\n",
    "                                product[\"quantity\"] += quantity\n",
    "                                product[\"total_price\"] += quantity * item[\"price\"]\n",
    "                                break\n",
    "                        else: \n",
    "                            #to add new product to the shopping basket\n",
    "                            shopping_basket.append({\"name\": item[\"name\"], \"quantity\": quantity, \"total_price\": quantity * item[\"price\"]})\n",
    "                            item[\"quantity\"] -= quantity\n",
    "                            print(f\"{quantity} x {item[\"name\"]} is now in your basket\")\n",
    "                            break\n",
    "                except ValueError:\n",
    "                    print(\"please type a valid number\")\n",
    "            break\n",
    "    else:\n",
    "        print(\"please choose a design from the list\")\n",
    "\n",
    "\n",
    "#here shows the customer the final basket and the cost\n",
    "\n",
    "print(\"your basket:\")\n",
    "final_cost = 0\n",
    "for product in shopping_basket:\n",
    "    print(f\"{product[\"name\"]} x {product[\"quantity\"]} - total: ${product[\"total_price\"]}\")\n",
    "    \n",
    "final_cost = sum(product[\"total_price\"] for product in shopping_basket)\n",
    "print(f\"your order cost: ${final_cost}\")"
   ]
  }
 ],
 "metadata": {
  "kernelspec": {
   "display_name": "base",
   "language": "python",
   "name": "python3"
  },
  "language_info": {
   "codemirror_mode": {
    "name": "ipython",
    "version": 3
   },
   "file_extension": ".py",
   "mimetype": "text/x-python",
   "name": "python",
   "nbconvert_exporter": "python",
   "pygments_lexer": "ipython3",
   "version": "3.12.7"
  }
 },
 "nbformat": 4,
 "nbformat_minor": 2
}
