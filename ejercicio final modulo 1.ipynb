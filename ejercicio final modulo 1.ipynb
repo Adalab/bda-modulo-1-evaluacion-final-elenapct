{
 "cells": [
  {
   "cell_type": "code",
   "execution_count": 47,
   "metadata": {},
   "outputs": [],
   "source": [
    "#The 3 main structures are: stock, customers and total sales and we create it empty at the start.\n",
    "#stock will have as keys: name, price and quantity.\n",
    "#customers will have as keys: name, email and purchase history.\n",
    "#the sales will be decimal"
   ]
  },
  {
   "cell_type": "code",
   "execution_count": 48,
   "metadata": {},
   "outputs": [
    {
     "name": "stdout",
     "output_type": "stream",
     "text": [
      "[]\n"
     ]
    }
   ],
   "source": [
    "stock = []\n",
    "print(stock)"
   ]
  },
  {
   "cell_type": "code",
   "execution_count": 49,
   "metadata": {},
   "outputs": [
    {
     "name": "stdout",
     "output_type": "stream",
     "text": [
      "{}\n"
     ]
    }
   ],
   "source": [
    "customers = {}\n",
    "print(customers)"
   ]
  },
  {
   "cell_type": "code",
   "execution_count": 50,
   "metadata": {},
   "outputs": [
    {
     "name": "stdout",
     "output_type": "stream",
     "text": [
      "{'nombre': '', 'email': '', 'historial_compras': []}\n"
     ]
    }
   ],
   "source": [
    "clientes = {\n",
    "    \"nombre\": \"\",\n",
    "    \"email\": \"\",\n",
    "    \"historial_compras\": []\n",
    "}\n",
    "print(clientes)"
   ]
  },
  {
   "cell_type": "code",
   "execution_count": 51,
   "metadata": {},
   "outputs": [],
   "source": [
    "sales = 0.0\n"
   ]
  },
  {
   "cell_type": "code",
   "execution_count": 52,
   "metadata": {},
   "outputs": [
    {
     "name": "stdout",
     "output_type": "stream",
     "text": [
      "[{'name': 'tshirt_pomona', 'price': 28, 'quantity': 12}, {'name': 'tshirt_nyx', 'price': 30, 'quantity': 25}, {'name': 'tshirt_minerva', 'price': 32, 'quantity': 10}, {'name': 'tshirt_eostre', 'price': 26, 'quantity': 7}, {'name': 'sweatshirt_minerva', 'price': 40, 'quantity': 6}, {'name': 'sweatshirt_afrodita', 'price': 59, 'quantity': 5}]\n"
     ]
    }
   ],
   "source": [
    "#I´m going to add the items with their name, price and quantity to the stock dictionary list\n",
    "##name: tshirt_pomona, price: 28€, quantity: 12\n",
    "##name: tshirt_nyx, price: 30€, quantity: 25\n",
    "##name: tshirt_minerva, price: 32€, quantity: 10\n",
    "##name: tshirt_eostre, price: 26€, quantity: 7\n",
    "##name: sweatshirt_minerva, price: 40€, quantity: 6\n",
    "##name: sweatshirt_afrodita, price: 59€, quantity: 5\n",
    "\n",
    "item1 = {\"name\": \"tshirt_pomona\", \"price\": 28, \"quantity\": 12}\n",
    "item2 = {\"name\": \"tshirt_nyx\", \"price\": 30, \"quantity\": 25}\n",
    "item3 = {\"name\": \"tshirt_minerva\", \"price\": 32, \"quantity\": 10}\n",
    "item4 = {\"name\": \"tshirt_eostre\", \"price\": 26, \"quantity\": 7}\n",
    "item5 = {\"name\": \"sweatshirt_minerva\", \"price\": 40, \"quantity\": 6}\n",
    "item6 = {\"name\": \"sweatshirt_afrodita\", \"price\": 59, \"quantity\": 5}\n",
    "\n",
    "stock.append(item1)\n",
    "stock.append(item2)\n",
    "stock.append(item3)\n",
    "stock.append(item4)\n",
    "stock.append(item5)\n",
    "stock.append(item6)\n",
    "print(stock)"
   ]
  },
  {
   "cell_type": "code",
   "execution_count": null,
   "metadata": {},
   "outputs": [],
   "source": [
    "#the result of adding all the items in stock will be\n",
    "stock = [{'name': 'tshirt_pomona', 'price': 28, 'quantity': 12}, \n",
    "         {'name': 'tshirt_nyx', 'price': 30, 'quantity': 25}, \n",
    "         {'name': 'tshirt_minerva', 'price': 32, 'quantity': 10}, \n",
    "         {'name': 'tshirt_eostre', 'price': 26, 'quantity': 7}, \n",
    "         {'name': 'sweatshirt_minerva', 'price': 40, 'quantity': 6}, \n",
    "         {'name': 'sweatshirt_afrodita', 'price': 59, 'quantity': 5}]"
   ]
  },
  {
   "cell_type": "code",
   "execution_count": 54,
   "metadata": {},
   "outputs": [
    {
     "name": "stdout",
     "output_type": "stream",
     "text": [
      "{'name': 'tshirt_pomona', 'price': 28, 'quantity': 12}\n",
      "{'name': 'tshirt_nyx', 'price': 30, 'quantity': 25}\n",
      "{'name': 'tshirt_minerva', 'price': 32, 'quantity': 10}\n",
      "{'name': 'tshirt_eostre', 'price': 26, 'quantity': 7}\n",
      "{'name': 'sweatshirt_minerva', 'price': 40, 'quantity': 6}\n",
      "{'name': 'sweatshirt_afrodita', 'price': 59, 'quantity': 5}\n"
     ]
    }
   ],
   "source": [
    "#Now I want to see all the details of the stock\n",
    "#the result will be all the dictionarys of my list called stock\n",
    "\n",
    "for item in stock:\n",
    "    print(item)"
   ]
  },
  {
   "cell_type": "code",
   "execution_count": 55,
   "metadata": {},
   "outputs": [
    {
     "name": "stdout",
     "output_type": "stream",
     "text": [
      "name, tshirt_pomona\n",
      "price, 28\n",
      "quantity, 12\n",
      "name, tshirt_nyx\n",
      "price, 30\n",
      "quantity, 25\n",
      "name, tshirt_minerva\n",
      "price, 32\n",
      "quantity, 10\n",
      "name, tshirt_eostre\n",
      "price, 26\n",
      "quantity, 7\n",
      "name, sweatshirt_minerva\n",
      "price, 40\n",
      "quantity, 6\n",
      "name, sweatshirt_afrodita\n",
      "price, 59\n",
      "quantity, 5\n"
     ]
    }
   ],
   "source": [
    "#but I want to see the keys and values and the result will be all the pairs of the whole stock\n",
    "for item in stock:\n",
    "    for key, value in item.items():\n",
    "        print(f\"{key}, {value}\")"
   ]
  },
  {
   "cell_type": "code",
   "execution_count": 56,
   "metadata": {},
   "outputs": [
    {
     "name": "stdout",
     "output_type": "stream",
     "text": [
      "{'name': 'tshirt_minerva', 'price': 32, 'quantity': 10}\n"
     ]
    }
   ],
   "source": [
    "item3 = {\"name\": \"tshirt_minerva\", \"price\": 32, \"quantity\": 10}\n",
    "if item3 in stock:\n",
    "    print(item3)\n",
    "else:\n",
    "    print(\"sorry, we don´t have this desing\")"
   ]
  },
  {
   "cell_type": "code",
   "execution_count": 57,
   "metadata": {},
   "outputs": [
    {
     "name": "stdout",
     "output_type": "stream",
     "text": [
      "sorry, we don´t have this desing\n"
     ]
    }
   ],
   "source": [
    "item17 = {\"name\": \"tshirt_athena\", \"price\": 32, \"quantity\": 10}\n",
    "if item17 in stock:\n",
    "    print(item17)\n",
    "else:\n",
    "    print(\"sorry, we don´t have this desing\")"
   ]
  },
  {
   "cell_type": "code",
   "execution_count": null,
   "metadata": {},
   "outputs": [
    {
     "name": "stdout",
     "output_type": "stream",
     "text": [
      "[{'name': 'tshirt_pomona', 'price': 28, 'quantity': 12}, {'name': 'tshirt_nyx', 'price': 30, 'quantity': 25}, {'name': 'tshirt_athena', 'price': 32, 'quantity': 10}, {'name': 'tshirt_eostre', 'price': 26, 'quantity': 7}, {'name': 'sweatshirt_athena', 'price': 40, 'quantity': 6}, {'name': 'sweatshirt_afrodita', 'price': 59, 'quantity': 5}]\n"
     ]
    }
   ],
   "source": [
    "#I have realized that \"minerva\" is a roman goddess and I want to name the product afert the greek goddesse \"athena\" \n",
    "#so I have to change the name\n",
    "for item in stock:\n",
    "    if \"tshirt_minerva\" in item[\"name\"]:\n",
    "        item[\"name\"] = item[\"name\"].replace(\"tshirt_minerva\", \"tshirt_athena\")\n",
    "print(stock)"
   ]
  },
  {
   "cell_type": "code",
   "execution_count": null,
   "metadata": {},
   "outputs": [
    {
     "name": "stdout",
     "output_type": "stream",
     "text": [
      "[{'name': 'tshirt_pomona', 'price': 28, 'quantity': 14}, {'name': 'tshirt_nyx', 'price': 30, 'quantity': 23}, {'name': 'tshirt_athena', 'price': 32, 'quantity': 10}, {'name': 'tshirt_eostre', 'price': 26, 'quantity': 7}, {'name': 'sweatshirt_athena', 'price': 40, 'quantity': 6}, {'name': 'sweatshirt_afrodita', 'price': 59, 'quantity': 5}]\n"
     ]
    }
   ],
   "source": [
    "#I have gicen my sister two \"tshirt_nyx\" as a present, so i also have to update the quantity of that product\n",
    "for item in stock:\n",
    "    if item[\"name\"] ==\"tshirt_nyx\":\n",
    "        item[\"quantity\"] -= 2\n",
    "print(stock)"
   ]
  }
 ],
 "metadata": {
  "kernelspec": {
   "display_name": "base",
   "language": "python",
   "name": "python3"
  },
  "language_info": {
   "codemirror_mode": {
    "name": "ipython",
    "version": 3
   },
   "file_extension": ".py",
   "mimetype": "text/x-python",
   "name": "python",
   "nbconvert_exporter": "python",
   "pygments_lexer": "ipython3",
   "version": "3.12.7"
  }
 },
 "nbformat": 4,
 "nbformat_minor": 2
}
