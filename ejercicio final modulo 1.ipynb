{
 "cells": [
  {
   "cell_type": "code",
   "execution_count": null,
   "metadata": {},
   "outputs": [],
   "source": [
    "#The 3 main structures are: stock, customers and total sales and we create it empty at the start.\n",
    "#stock will have as keys: name, price and quantity.\n",
    "#customers will have as keys: name, email and purchase history.\n",
    "#the sales will be decimal"
   ]
  },
  {
   "cell_type": "code",
   "execution_count": 27,
   "metadata": {},
   "outputs": [
    {
     "name": "stdout",
     "output_type": "stream",
     "text": [
      "[]\n"
     ]
    }
   ],
   "source": [
    "stock = []\n",
    "print(stock)"
   ]
  },
  {
   "cell_type": "code",
   "execution_count": 28,
   "metadata": {},
   "outputs": [
    {
     "name": "stdout",
     "output_type": "stream",
     "text": [
      "{}\n"
     ]
    }
   ],
   "source": [
    "customers = {}\n",
    "print(customers)"
   ]
  },
  {
   "cell_type": "code",
   "execution_count": 16,
   "metadata": {},
   "outputs": [
    {
     "name": "stdout",
     "output_type": "stream",
     "text": [
      "{'nombre': '', 'email': '', 'historial_compras': []}\n"
     ]
    }
   ],
   "source": [
    "clientes = {\n",
    "    \"nombre\": \"\",\n",
    "    \"email\": \"\",\n",
    "    \"historial_compras\": []\n",
    "}\n",
    "print(clientes)"
   ]
  },
  {
   "cell_type": "code",
   "execution_count": 29,
   "metadata": {},
   "outputs": [],
   "source": [
    "sales = 0.0\n"
   ]
  },
  {
   "cell_type": "code",
   "execution_count": 33,
   "metadata": {},
   "outputs": [
    {
     "name": "stdout",
     "output_type": "stream",
     "text": [
      "[{'name': 'camiseta_pomona', 'price': 28, 'quantity': 15}, {'name': 'camiseta_nyx', 'price': 30, 'quantity': 20}, {'name': 'camiseta_minerva', 'price': 32, 'quantity': 10}, {'name': 'camiseta_eostre', 'price': 26, 'quantity': 7}, {'name': 'sudadera_minerva', 'price': 40, 'quantity': 12}, {'name': 'sudadera_afrodita', 'price': 59, 'quantity': 5}, {'name': 'camiseta_pomona', 'price': 28, 'quantity': 15}, {'name': 'camiseta_nyx', 'price': 30, 'quantity': 20}, {'name': 'camiseta_minerva', 'price': 32, 'quantity': 10}, {'name': 'camiseta_eostre', 'price': 26, 'quantity': 7}, {'name': 'sudadera_minerva', 'price': 40, 'quantity': 12}, {'name': 'sudadera_afrodita', 'price': 59, 'quantity': 5}, {'name': 'tshirt_pomona', 'price': 28, 'quantity': 12}, {'name': 'tshirt_nyx', 'price': 30, 'quantity': 25}, {'name': 'tshirt_minerva', 'price': 32, 'quantity': 10}, {'name': 'tshirt_eostre', 'price': 26, 'quantity': 7}, {'name': 'sweatshirt_minerva', 'price': 40, 'quantity': 6}, {'name': 'sweatshirt_afrodita', 'price': 59, 'quantity': 5}]\n"
     ]
    }
   ],
   "source": [
    "#I´m going to add the items with their name, price and quantity to the stock dictionary list\n",
    "##name: tshirt_pomona, price: 28€, quantity: 12\n",
    "##name: tshirt_nyx, price: 30€, quantity: 25\n",
    "##name: tshirt_minerva, price: 32€, quantity: 10\n",
    "##name: tshirt_eostre, price: 26€, quantity: 7\n",
    "##name: sweatshirt_minerva, price: 40€, quantity: 6\n",
    "##name: sweatshirt_afrodita, price: 59€, quantity: 5\n",
    "\n",
    "item1 = {\"name\": \"tshirt_pomona\", \"price\": 28, \"quantity\": 12}\n",
    "item2 = {\"name\": \"tshirt_nyx\", \"price\": 30, \"quantity\": 25}\n",
    "item3 = {\"name\": \"tshirt_minerva\", \"price\": 32, \"quantity\": 10}\n",
    "item4 = {\"name\": \"tshirt_eostre\", \"price\": 26, \"quantity\": 7}\n",
    "item5 = {\"name\": \"sweatshirt_minerva\", \"price\": 40, \"quantity\": 6}\n",
    "item6 = {\"name\": \"sweatshirt_afrodita\", \"price\": 59, \"quantity\": 5}\n",
    "\n",
    "stock.append(item1)\n",
    "stock.append(item2)\n",
    "stock.append(item3)\n",
    "stock.append(item4)\n",
    "stock.append(item5)\n",
    "stock.append(item6)\n",
    "print(stock)"
   ]
  }
 ],
 "metadata": {
  "kernelspec": {
   "display_name": "base",
   "language": "python",
   "name": "python3"
  },
  "language_info": {
   "codemirror_mode": {
    "name": "ipython",
    "version": 3
   },
   "file_extension": ".py",
   "mimetype": "text/x-python",
   "name": "python",
   "nbconvert_exporter": "python",
   "pygments_lexer": "ipython3",
   "version": "3.12.7"
  }
 },
 "nbformat": 4,
 "nbformat_minor": 2
}
